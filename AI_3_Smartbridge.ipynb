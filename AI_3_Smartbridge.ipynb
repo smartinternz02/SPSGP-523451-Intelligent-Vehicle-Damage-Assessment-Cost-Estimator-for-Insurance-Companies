{
 "cells": [
  {
   "cell_type": "code",
   "execution_count": 41,
   "id": "d0d88551",
   "metadata": {},
   "outputs": [],
   "source": [
    "# Build a CNN model for Bird species"
   ]
  },
  {
   "cell_type": "code",
   "execution_count": 42,
   "id": "7d6daf1b",
   "metadata": {},
   "outputs": [],
   "source": [
    "# importing libraries\n",
    "import pandas as pd\n",
    "import numpy as np\n",
    "import tensorflow as tf"
   ]
  },
  {
   "cell_type": "code",
   "execution_count": 43,
   "id": "aac50bb0",
   "metadata": {},
   "outputs": [],
   "source": [
    "from tensorflow.keras.preprocessing.image import ImageDataGenerator as idg"
   ]
  },
  {
   "cell_type": "code",
   "execution_count": 44,
   "id": "ef8e6033",
   "metadata": {},
   "outputs": [],
   "source": [
    "train_data=idg(rescale=(1./255),horizontal_flip=True,shear_range=0.2)\n",
    "test_data=idg(rescale=(1./255))"
   ]
  },
  {
   "cell_type": "code",
   "execution_count": 45,
   "id": "2f44805c",
   "metadata": {},
   "outputs": [
    {
     "name": "stdout",
     "output_type": "stream",
     "text": [
      "Found 150 images belonging to 16 classes.\n",
      "Found 157 images belonging to 16 classes.\n"
     ]
    }
   ],
   "source": [
    "train=train_data.flow_from_directory('C:/Users/Sandhya/Downloads/Birds/train_data',\n",
    "                                    target_size=(120,120),\n",
    "                                    class_mode='categorical',\n",
    "                                    batch_size=22)\n",
    "test=test_data.flow_from_directory('C:/Users/Sandhya/Downloads/Birds/test_data',\n",
    "                                  target_size=(120,120),\n",
    "                                  class_mode='categorical',\n",
    "                                  batch_size=22)"
   ]
  },
  {
   "cell_type": "code",
   "execution_count": 46,
   "id": "cd28050e",
   "metadata": {},
   "outputs": [
    {
     "data": {
      "text/plain": [
       "{'blasti': 0,\n",
       " 'bonegl': 1,\n",
       " 'brhkyt': 2,\n",
       " 'cbrtsh': 3,\n",
       " 'cmnmyn': 4,\n",
       " 'gretit': 5,\n",
       " 'hilpig': 6,\n",
       " 'himbul': 7,\n",
       " 'himgri': 8,\n",
       " 'hsparo': 9,\n",
       " 'indvul': 10,\n",
       " 'jglowl': 11,\n",
       " 'lbicrw': 12,\n",
       " 'mgprob': 13,\n",
       " 'rebimg': 14,\n",
       " 'wcrsrt': 15}"
      ]
     },
     "execution_count": 46,
     "metadata": {},
     "output_type": "execute_result"
    }
   ],
   "source": [
    "train.class_indices"
   ]
  },
  {
   "cell_type": "code",
   "execution_count": 47,
   "id": "c8478588",
   "metadata": {},
   "outputs": [
    {
     "data": {
      "text/plain": [
       "{'blasti': 0,\n",
       " 'bonegl': 1,\n",
       " 'brhkyt': 2,\n",
       " 'cbrtsh': 3,\n",
       " 'cmnmyn': 4,\n",
       " 'gretit': 5,\n",
       " 'hilpig': 6,\n",
       " 'himbul': 7,\n",
       " 'himgri': 8,\n",
       " 'hsparo': 9,\n",
       " 'indvul': 10,\n",
       " 'jglowl': 11,\n",
       " 'lbicrw': 12,\n",
       " 'mgprob': 13,\n",
       " 'rebimg': 14,\n",
       " 'wcrsrt': 15}"
      ]
     },
     "execution_count": 47,
     "metadata": {},
     "output_type": "execute_result"
    }
   ],
   "source": [
    "test.class_indices"
   ]
  },
  {
   "cell_type": "code",
   "execution_count": 48,
   "id": "115e3efa",
   "metadata": {},
   "outputs": [],
   "source": [
    "# CNN\n",
    "from tensorflow.keras.layers import Convolution2D,MaxPooling2D, Flatten,Dense\n",
    "from tensorflow.keras.models import Sequential"
   ]
  },
  {
   "cell_type": "code",
   "execution_count": 49,
   "id": "cbf22dab",
   "metadata": {},
   "outputs": [],
   "source": [
    "model=Sequential()\n",
    "model.add(Convolution2D(20,(3,3),activation='relu',input_shape=(120,120,3)))\n",
    "model.add(MaxPooling2D(pool_size=(2,2)))\n",
    "model.add(Flatten())\n",
    "model.add(Dense(60,activation='relu'))\n",
    "model.add(Dense(16,activation='softmax'))"
   ]
  },
  {
   "cell_type": "code",
   "execution_count": 50,
   "id": "68602952",
   "metadata": {},
   "outputs": [],
   "source": [
    "model.compile(optimizer='adam',loss='categorical_crossentropy',metrics=['accuracy'])"
   ]
  },
  {
   "cell_type": "code",
   "execution_count": null,
   "id": "a03fe95f",
   "metadata": {},
   "outputs": [
    {
     "name": "stdout",
     "output_type": "stream",
     "text": [
      "Epoch 1/50\n",
      "7/7 [==============================] - 57s 9s/step - loss: 6.8071 - accuracy: 0.0800 - val_loss: 5.7298 - val_accuracy: 0.0764\n",
      "Epoch 2/50\n",
      "7/7 [==============================] - 51s 8s/step - loss: 4.2193 - accuracy: 0.0667 - val_loss: 3.5478 - val_accuracy: 0.1274\n",
      "Epoch 3/50\n",
      "7/7 [==============================] - 53s 8s/step - loss: 2.7934 - accuracy: 0.1467 - val_loss: 2.7633 - val_accuracy: 0.0955\n",
      "Epoch 4/50\n",
      "7/7 [==============================] - 56s 9s/step - loss: 2.5961 - accuracy: 0.1000 - val_loss: 2.7907 - val_accuracy: 0.1210\n",
      "Epoch 5/50\n",
      "7/7 [==============================] - 55s 9s/step - loss: 2.5193 - accuracy: 0.1733 - val_loss: 2.8147 - val_accuracy: 0.1465\n",
      "Epoch 6/50\n",
      "7/7 [==============================] - 52s 8s/step - loss: 2.4358 - accuracy: 0.2133 - val_loss: 2.8352 - val_accuracy: 0.1592\n",
      "Epoch 7/50\n",
      "7/7 [==============================] - 52s 8s/step - loss: 2.3619 - accuracy: 0.2067 - val_loss: 2.7757 - val_accuracy: 0.1529\n",
      "Epoch 8/50\n",
      "7/7 [==============================] - 51s 8s/step - loss: 2.1969 - accuracy: 0.2600 - val_loss: 2.8468 - val_accuracy: 0.1847\n",
      "Epoch 9/50\n",
      "7/7 [==============================] - 51s 8s/step - loss: 2.1305 - accuracy: 0.2933 - val_loss: 2.7689 - val_accuracy: 0.1274\n",
      "Epoch 10/50\n",
      "7/7 [==============================] - 51s 8s/step - loss: 2.0692 - accuracy: 0.2867 - val_loss: 2.7957 - val_accuracy: 0.1783\n",
      "Epoch 11/50\n",
      "2/7 [=======>......................] - ETA: 15s - loss: 2.0571 - accuracy: 0.2500"
     ]
    }
   ],
   "source": [
    "model.fit(train,batch_size=8,validation_data=test,epochs=50)"
   ]
  },
  {
   "cell_type": "code",
   "execution_count": null,
   "id": "faac4243",
   "metadata": {},
   "outputs": [],
   "source": [
    "model.save('birds.h5')"
   ]
  },
  {
   "cell_type": "code",
   "execution_count": null,
   "id": "d596db90",
   "metadata": {},
   "outputs": [],
   "source": [
    "# Testing\n",
    "\n",
    "import numpy as np\n",
    "from tensorflow.keras.preprocessing import image"
   ]
  },
  {
   "cell_type": "code",
   "execution_count": null,
   "id": "4e543bcf",
   "metadata": {},
   "outputs": [],
   "source": [
    "img=image.load_img('C:/Users/Sandhya/Downloads/Birds/test_data/hilpig/DSC_6364.jpg',target_size=(120,120))"
   ]
  },
  {
   "cell_type": "code",
   "execution_count": null,
   "id": "5ad52d8e",
   "metadata": {},
   "outputs": [],
   "source": [
    "img"
   ]
  },
  {
   "cell_type": "code",
   "execution_count": null,
   "id": "c7da852a",
   "metadata": {},
   "outputs": [],
   "source": [
    "img=image.img_to_array(img)\n",
    "img"
   ]
  },
  {
   "cell_type": "code",
   "execution_count": null,
   "id": "532bfa02",
   "metadata": {},
   "outputs": [],
   "source": [
    "img=np.expand_dims(img,axis=0)\n",
    "img"
   ]
  },
  {
   "cell_type": "code",
   "execution_count": null,
   "id": "1fb2074c",
   "metadata": {},
   "outputs": [],
   "source": [
    "np.argmax(model.predict(img))"
   ]
  },
  {
   "cell_type": "code",
   "execution_count": null,
   "id": "6465dc1f",
   "metadata": {},
   "outputs": [],
   "source": []
  }
 ],
 "metadata": {
  "kernelspec": {
   "display_name": "Python 3",
   "language": "python",
   "name": "python3"
  },
  "language_info": {
   "codemirror_mode": {
    "name": "ipython",
    "version": 3
   },
   "file_extension": ".py",
   "mimetype": "text/x-python",
   "name": "python",
   "nbconvert_exporter": "python",
   "pygments_lexer": "ipython3",
   "version": "3.9.12"
  }
 },
 "nbformat": 4,
 "nbformat_minor": 5
}
